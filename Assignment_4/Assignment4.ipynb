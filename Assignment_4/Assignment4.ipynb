{
 "cells": [
  {
   "cell_type": "markdown",
   "id": "8d08b1ae-24ed-47cc-84af-56684de13b23",
   "metadata": {},
   "source": [
    "# SNLP Assignment 4\n",
    "\n",
    "Name 1: Entang Wang<br/>\n",
    "Student id 1: 7069521<br/>\n",
    "Email 1: enwa00001@stud.uni-saarland.de<br/>\n",
    "\n",
    "\n",
    "Name 2: <br/>\n",
    "Student id 2: <br/>\n",
    "Email 2: <br/> \n",
    "\n",
    "Name 3: <br/>\n",
    "Student id 3: <br/>\n",
    "Email 3: <br/> \n",
    "\n",
    "**Instructions:** Read each question carefully. <br/>\n",
    "Make sure you appropriately comment your code wherever required. Your final submission should contain the completed Notebook. There is no need to submit the data files. <br/>\n",
    "Upload the zipped folder on CMS. Please follow the naming convention of **Name1_studentID1_Name2_studentID2_Name3_studentID3.zip**. Make sure to click on \"Turn-in\" (or the equivalent on CMS) after you upload your submission, otherwise the assignment will not be considered as submitted. Only one member of the group should make the submisssion."
   ]
  },
  {
   "cell_type": "markdown",
   "id": "e6baf84f-c1f1-4d86-80ed-d127e734d96e",
   "metadata": {},
   "source": [
    "# OOVs ( 4 Points)\n",
    "\n",
    "Out-of-vocabulary words are a problem in language modeling, because of data sparsity.\n",
    "In this exercise we will axamine the impact of vocab size on OOV rate and how this affects the performance of the model.\n",
    "\n",
    "1. What are out-of-vocabulary words (OOVs)? (0.25 points)\n",
    "2. What happened to perplexity with low-frequency words? (0.25 points)\n",
    "\n",
    "### Answers:\n",
    "\n",
    "Your answer to 1. and 2. go here.\n",
    "\n",
    "1. OOVs are any tokens in the test corpus that were not included in the language model’s fixed training vocabulary.\n",
    "2. Low-frequency words spiked the perplexity of the model."
   ]
  },
  {
   "cell_type": "markdown",
   "id": "27561edb-a232-4815-8d5d-fbb48e2f54cd",
   "metadata": {},
   "source": [
    "3. Load and split the data into a train and test set (70:30 ratio). Do not randomize leave the order as is. (0.5point)"
   ]
  },
  {
   "cell_type": "code",
   "id": "417b6bb2-570f-45f4-a4c1-ac359964790c",
   "metadata": {
    "ExecuteTime": {
     "end_time": "2025-05-09T22:48:55.402806Z",
     "start_time": "2025-05-09T22:48:55.017334Z"
    }
   },
   "source": [
    "import nltk\n",
    "nltk.download('treebank')\n",
    "\n",
    "### TODO\n",
    "\n",
    "def load_and_preprocess_data():\n",
    "    ''' Function that loads the treebank corpus from nltk and preprocesses it'''\n",
    "    # Load the raw sentences from the treebank corpus\n",
    "    sentences = nltk.corpus.treebank.sents()\n",
    "\n",
    "    # Preprocess: lowercase all tokens\n",
    "    preprocessed = [token.lower() for sent in sentences for token in sent]\n",
    "    return preprocessed\n",
    "\n",
    "def train_test_split(corpus, train_ratio=0.7):\n",
    "    '''Splits the corpus using a 70:30 ratio. Do not randomize anything here. use the original order\n",
    "    Input: corpus - preprocessed test\n",
    "    Output: tuple of train and test set'''\n",
    "    # Calculate the split index\n",
    "    split_idx = int(len(corpus) * train_ratio)\n",
    "\n",
    "    # Split without shuffling\n",
    "    train_set = corpus[:split_idx]\n",
    "    test_set = corpus[split_idx:]\n",
    "    print(train_set[:50])\n",
    "    print(test_set[:50])\n",
    "    return train_set, test_set\n",
    "\n",
    "treebank = load_and_preprocess_data()\n",
    "train_set, test_set = train_test_split(treebank)"
   ],
   "outputs": [
    {
     "name": "stderr",
     "output_type": "stream",
     "text": [
      "[nltk_data] Downloading package treebank to\n",
      "[nltk_data]     C:\\Users\\WangEntang\\AppData\\Roaming\\nltk_data...\n",
      "[nltk_data]   Package treebank is already up-to-date!\n"
     ]
    },
    {
     "name": "stdout",
     "output_type": "stream",
     "text": [
      "['pierre', 'vinken', ',', '61', 'years', 'old', ',', 'will', 'join', 'the', 'board', 'as', 'a', 'nonexecutive', 'director', 'nov.', '29', '.', 'mr.', 'vinken', 'is', 'chairman', 'of', 'elsevier', 'n.v.', ',', 'the', 'dutch', 'publishing', 'group', '.', 'rudolph', 'agnew', ',', '55', 'years', 'old', 'and', 'former', 'chairman', 'of', 'consolidated', 'gold', 'fields', 'plc', ',', 'was', 'named', '*-1', 'a']\n",
      "['echoed', '*-1', 'by', 'many', 'small', 'investors', 'interviewed', '*', 'by', 'wall', 'street', 'journal', 'reporters', 'across', 'the', 'country', '.', 'but', 'like', 'mr.', 'egnuss', ',', 'few', 'expect', 'it', 'to', 'be', 'halted', '*-1', 'entirely', ',', 'and', 'a', 'surprising', 'number', 'doubt', '0', 'it', 'should', 'be', '*?*', '.', '``', 'i', 'think', '0', 'program', 'trading', 'is', 'basically']\n"
     ]
    }
   ],
   "execution_count": 24
  },
  {
   "cell_type": "markdown",
   "id": "46e12e31-24dc-4046-a1b9-b2964e6c2527",
   "metadata": {},
   "source": [
    "4. Complete the function that selects the top n frequent words to form a vocabulary. (0.5 point)"
   ]
  },
  {
   "cell_type": "code",
   "id": "29de5d69-5212-47c5-a851-03895bd020a5",
   "metadata": {
    "ExecuteTime": {
     "end_time": "2025-05-09T22:49:45.238872Z",
     "start_time": "2025-05-09T22:49:45.233673Z"
    }
   },
   "source": [
    "\n",
    "def make_vocab(tokens, top_n: int) -> set:\n",
    "    '''Make the top_n frequent vocabulary from a corpus\n",
    "    Input:tokens - list of tokens\n",
    "         top_n  - int\n",
    "    Output: the vocabulary - set of words'''\n",
    "    \n",
    "    # Count the frequency of each token\n",
    "    freq_dict = {}\n",
    "    for token in tokens:\n",
    "        freq_dict[token] = freq_dict.get(token, 0) + 1\n",
    "    \n",
    "    # Sort the tokens by frequency\n",
    "    sorted_tokens = sorted(freq_dict.items(), key=lambda x: x[1], reverse=True)\n",
    "    # Select the top_n tokens\n",
    "    top_tokens = sorted_tokens[:top_n]\n",
    "    \n",
    "    return set(token[0] for token in top_tokens)\n",
    "        "
   ],
   "outputs": [],
   "execution_count": 25
  },
  {
   "cell_type": "markdown",
   "id": "58700f6a-3068-4613-bc16-dcf280a70f34",
   "metadata": {},
   "source": [
    "5. Complete the function that restricts a corpus to the top_n Vocabulary, i.e. replace  all OOVs with a new `<unk>` token. (1 point)"
   ]
  },
  {
   "cell_type": "code",
   "id": "87784b35-e436-49d7-bd8b-93c2dd2dff77",
   "metadata": {
    "ExecuteTime": {
     "end_time": "2025-05-09T22:39:51.189588Z",
     "start_time": "2025-05-09T22:39:51.186183Z"
    }
   },
   "source": [
    "\n",
    "def restrict_vocab(corpus, vocab):\n",
    "    '''Make the corpus fit inside the vocabulary using <unk>\n",
    "    Input: corpus - text to be resticted\n",
    "         vocab  - set of words\n",
    "    Output: Corpus resticted to vocab'''\n",
    "    # Traverse the corpus and replace OOVs with <unk>\n",
    "    for i in range(len(corpus)):\n",
    "        if corpus[i] not in vocab:\n",
    "            corpus[i] = \"<unk>\"\n",
    "    \n",
    "    return corpus\n",
    "    "
   ],
   "outputs": [],
   "execution_count": 8
  },
  {
   "cell_type": "markdown",
   "id": "4da51e38-aea2-4c94-ba4d-bcf47811c6c7",
   "metadata": {},
   "source": [
    "6. Plot the OOV rate of the test set for varying vocabulary sizes. (1 point)"
   ]
  },
  {
   "cell_type": "code",
   "id": "f50378ee-ba14-46c1-b98c-cf5d2c218e40",
   "metadata": {
    "ExecuteTime": {
     "end_time": "2025-05-09T22:52:44.705758Z",
     "start_time": "2025-05-09T22:52:44.575109Z"
    }
   },
   "source": [
    "def get_OOV_rate(text, vocab):\n",
    "    ''' Function that returns the OOV rate for a given corpus and Vocab\n",
    "    Input: corpus - preprocessed text\n",
    "         vocab  - set of words\n",
    "    Output: OOV rate - float '''\n",
    "    OOV_count = 0\n",
    "    \n",
    "    if len(text) == 0:\n",
    "        return 0.0\n",
    "    \n",
    "    for i in range(len(text)):\n",
    "        if text[i] not in vocab:\n",
    "            OOV_count += 1\n",
    "\n",
    "    # Calculate the OOV rate\n",
    "    OOV_rate = float(OOV_count / len(text))\n",
    "    \n",
    "    return OOV_rate\n",
    "\n",
    "def plot_OOV_rates(corpus, vocab, top_n):\n",
    "    ''' Function that returns the OOV rate for a given corpus and Vocab\n",
    "    Input: corpus - preprocessed text\n",
    "         vocab  - set of words\n",
    "         top_n - list[int] '''\n",
    "    \n",
    "    import matplotlib.pyplot as plt\n",
    "    \n",
    "    OOV_rates = []\n",
    "    \n",
    "    for i in range(len(top_n)):\n",
    "        # Get the top_n vocabulary\n",
    "        new_vocab = make_vocab(vocab, top_n[i])\n",
    "        \n",
    "        # Get the OOV rate\n",
    "        OOV_rate = get_OOV_rate(corpus, new_vocab)\n",
    "        \n",
    "        OOV_rates.append(OOV_rate)\n",
    "    \n",
    "    # Plot the OOV rates\n",
    "    plt.plot(top_n, OOV_rates)\n",
    "    plt.xlabel(\"Vocabulary Size\")\n",
    "    plt.ylabel(\"OOV Rate\")\n",
    "    plt.title(\"OOV Rate & Vocabulary Size\")\n",
    "    plt.grid()\n",
    "    plt.show()\n",
    "\n",
    "\n",
    "plot_OOV_rates(test_set, train_set, [5,10,25,50,100,200,500,1000,2000,5000,10000,20000])"
   ],
   "outputs": [
    {
     "data": {
      "text/plain": [
       "<Figure size 640x480 with 1 Axes>"
      ],
      "image/png": "[encoded data removed]"
     },
     "metadata": {},
     "output_type": "display_data"
    }
   ],
   "execution_count": 33
  },
  {
   "cell_type": "markdown",
   "id": "be2486f7-848e-4f0e-8c54-31ce8a94cbf0",
   "metadata": {},
   "source": [
    "7. Why would we restrict Vocabulary size if OOVs are a problem.(0.5 points)\n",
    "\n",
    "1) save the calculation and memory cost of the model: each word in the vocabulary needs to be stored in the model, and the larger the vocabulary, the more memory is needed.\n",
    "2) improve the reliability of the model: low-frequency words are often noisy with a low probability that can introduce a lot of variance in the model. By restricting the vocabulary, we can reduce the noise and improve the reliability of the model.\n",
    "3) improve generalization: by handling unseen words with a special token, we can improve the generalization ability of the model."
   ]
  },
  {
   "cell_type": "markdown",
   "id": "b72ee414-3971-4e5b-a8c6-900b456d60ce",
   "metadata": {},
   "source": [
    "# Tokenization (6 Points)\n",
    "\n",
    "In the previous part we replaced OOVs with a`<unk>` Token. Another approach is to change tokenization to split words in to subwords. In the lecture we learnt about two methods that do this BPE and Morfessor. In this part we will see how they work using text data in English and Hindi. We will also compare them by looking at the entropy of the token distributions and how they handle OOVs.\n",
    "\n",
    "1. Load the parallel corpus (English-Hindi), preprocess and split the text in words for both languages. Also split into train and test sets using the same ratio as in the previous part.(1 point)"
   ]
  },
  {
   "cell_type": "code",
   "execution_count": 12,
   "id": "123c66ce-33e1-4177-bffc-2bb847e97bd8",
   "metadata": {},
   "outputs": [
    {
     "name": "stdout",
     "output_type": "stream",
     "text": [
      "{'idx': 0, 'src': \"However, Paes, who was partnering Australia's Paul Hanley, could only go as far as the quarterfinals where they lost to Bhupathi and Knowles\", 'tgt': 'आस्ट्रेलिया के पाल हेनली के साथ जोड़ी बनाने वाले पेस मियामी में क्वार्टरफाइनल तक ही पहुंच सके क्योंकि इस दौर में उन्हें भूपति और नोल्स ने हराया था।'}\n"
     ]
    }
   ],
   "source": [
    "from datasets import load_dataset\n",
    "\n",
    "# Load the Samanantar dataset for English-Hindi\n",
    "dataset = load_dataset(\"ai4bharat/samanantar\", \"hi\", split=\"train\",streaming = True)\n",
    "\n",
    "# Access the  first 1000 samples of the train split\n",
    "data = []\n",
    "for i, sample in enumerate(dataset):\n",
    "    if i == 1000:\n",
    "        break\n",
    "    data.append(sample)\n",
    "\n",
    "# Print a sample\n",
    "print(data[0])"
   ]
  },
  {
   "cell_type": "code",
   "execution_count": null,
   "id": "b44cbafe-384c-475d-b16f-272b681497ff",
   "metadata": {},
   "outputs": [],
   "source": [
    "# preprocess data\n"
   ]
  },
  {
   "cell_type": "markdown",
   "id": "584685af-bfce-4f3e-b931-ddcb0f01ec96",
   "metadata": {},
   "source": [
    "2. Train a BPE tokenizer for both languages. (1 point)\n",
    "3. Compute the entropy and OOV rate of the test set for both languages. What does the entropy tell us? (1 point)"
   ]
  },
  {
   "cell_type": "code",
   "execution_count": null,
   "id": "cbc925d4-21b8-4190-b616-79a9419d0235",
   "metadata": {},
   "outputs": [],
   "source": [
    "from tokenizers import Tokenizer\n",
    "from tokenizers.models import BPE\n",
    "from tokenizers.trainers import BpeTrainer\n",
    "\n",
    "vocab_size = 500\n",
    "\n",
    "#Train BPE model\n",
    "\n",
    "\n",
    "#Compute entropys and OOV rates\n",
    "\n",
    "\n",
    "print(f\"BPE entropy english: {bpe_entropy_en:.2f}\")\n",
    "print(f\"BPE entropy hindi: {bpe_entropy_hi:.2f}\")\n",
    "print(f\"BPE OOV rate english: {bpe_OOV_rate_en:.2f}\")\n",
    "print(f\"BPE OOV rate hindi_ {bpe_OOV_rate_hi:.2f}\")"
   ]
  },
  {
   "cell_type": "markdown",
   "id": "a0ef4bfa-b487-491b-a0ce-642d472f5456",
   "metadata": {},
   "source": [
    "4. Train the Morfessor tokenizer on each corpus. Morphesor expects the count followed by the word as a training file.(1 points)\n",
    "\n",
    "   ```\n",
    "        22 the\n",
    "        1 hello\n",
    "        4 is\n",
    "        1 test-based\n",
    "        ..."
   ]
  },
  {
   "cell_type": "code",
   "execution_count": null,
   "id": "67eb739e-d3aa-4582-9c4c-fe4a2f49f0a7",
   "metadata": {},
   "outputs": [],
   "source": [
    "import morfessor\n",
    "# save the words with their counts to morfessor_training_en.txt and morfessor_training_hi.txt\n"
   ]
  },
  {
   "cell_type": "code",
   "execution_count": null,
   "id": "f0c32f51-124f-4be3-801d-9e6405f374b1",
   "metadata": {},
   "outputs": [],
   "source": [
    "#train the models\n",
    "alpha =  0.53"
   ]
  },
  {
   "cell_type": "markdown",
   "id": "32eaeb88-7cea-4979-a5be-9f1cd36b16e4",
   "metadata": {},
   "source": [
    "5. Tokenize each test set again using Morfessor. (1 point)"
   ]
  },
  {
   "cell_type": "code",
   "execution_count": null,
   "id": "ad32936a-ad02-48b5-9dd7-63dc44a61b69",
   "metadata": {},
   "outputs": [],
   "source": [
    "#tokenize test sets\n"
   ]
  },
  {
   "cell_type": "markdown",
   "id": "7e006c99-7700-4286-b07a-517ac07b87b5",
   "metadata": {},
   "source": [
    "6. Compare the OOV rate and entropy to BPE. How do they compare for both languages? (1 point)"
   ]
  },
  {
   "cell_type": "code",
   "execution_count": null,
   "id": "17081332-1bd6-4577-adc7-96567082147e",
   "metadata": {},
   "outputs": [],
   "source": [
    "#Compute entropys and OOV rates\n",
    "\n",
    "print(f\"Morfessor entropy english: {morfessor_entropy_en:.2f}\")\n",
    "print(f\"Morrfessor entropy hindi: {morfessor_entropy_hi:.2f}\")\n",
    "print(f\"Morfessor OOV rate english: {morfessor_OOV_rate_en:.2f}\")\n",
    "print(f\"Morfessor OOV rate hindi: {morfessor_OOV_rate_hi:.2f}\")"
   ]
  }
 ],
 "metadata": {
  "kernelspec": {
   "display_name": "Python 3 (ipykernel)",
   "language": "python",
   "name": "python3"
  },
  "language_info": {
   "codemirror_mode": {
    "name": "ipython",
    "version": 3
   },
   "file_extension": ".py",
   "mimetype": "text/x-python",
   "name": "python",
   "nbconvert_exporter": "python",
   "pygments_lexer": "ipython3",
   "version": "3.13.3"
  }
 },
 "nbformat": 4,
 "nbformat_minor": 5
}
