{
 "cells": [
  {
   "cell_type": "markdown",
   "id": "7fdfc080",
   "metadata": {},
   "source": [
    "# SNLP Assignment 1\n",
    "\n",
    "Name 1: <br/>\n",
    "Student id 1: <br/>\n",
    "Email 1: <br/>\n",
    "\n",
    "\n",
    "Name 2: <br/>\n",
    "Student id 2: <br/>\n",
    "Email 2: <br/> \n",
    "\n",
    "Name 3: <br/>\n",
    "Student id 3: <br/>\n",
    "Email 3: <br/> \n",
    "\n",
    "**Instructions:** Read each question carefully. <br/>\n",
    "Make sure you appropriately comment your code wherever required. Your final submission should contain the completed Notebook. There is no need to submit the data files. <br/>\n",
    "Upload the zipped folder on CMS. Please follow the naming convention of **Name1_studentID1_Name2_studentID2_Name3_studentID3.zip**. Make sure to click on \"Turn-in\" (or the equivalent on CMS) after you upload your submission, otherwise the assignment will not be considered as submitted. Only one member of the group should make the submisssion.\n",
    "\n",
    "**NOTE**: For this specific exercise, you are not allowed to import any libraries other than the ones already specified in the next cell\n"
   ]
  },
  {
   "cell_type": "code",
   "execution_count": 31,
   "id": "acba5ba4",
   "metadata": {},
   "outputs": [],
   "source": [
    "import string\n",
    "import matplotlib.pyplot as plt"
   ]
  },
  {
   "cell_type": "markdown",
   "id": "24cc6eb1",
   "metadata": {},
   "source": [
    "## Exercise 1.3: Python Basics [0.5 + 0.5 + 0.5 + 0.5 = 2 pts]\n",
    "\n",
    "In this exercise, you will familiarise yourself with the fundamentals of Natural Language Processing (NLP), especially some important and relevant operations in Python. You are given a small text corpus in the file `data.txt`. Your task is the following:\n",
    "1. Load the text from the file.  [0.5 pts]\n",
    "2. Perfrom basic text pre-processing on the text to remove punctuations and other non-important symbols, also lowercase everything. [0.5 pts]\n",
    "3. Report statistics such as: number of words (unigrams), number of bigrams, number of trigrams. [0.5 pts]\n",
    "4. Plot separate histograms to show the distribution of the unigrams, bigrams and trigrams.      [0.5 pts]"
   ]
  },
  {
   "cell_type": "code",
   "execution_count": null,
   "id": "eb115b49",
   "metadata": {},
   "outputs": [],
   "source": [
    "def load_text(filepath='data.txt'):\n",
    "    \"\"\"\n",
    "    Load text from a file.\n",
    "\n",
    "    Args:\n",
    "        filepath (str): Path to the file to be loaded.\n",
    "\n",
    "    Returns:\n",
    "        str: The content of the file as a string.\n",
    "    \"\"\"\n",
    "    pass\n",
    "\n",
    "def preprocess(text):\n",
    "    \"\"\"\n",
    "    Preprocess the input text by lowercasing and removing punctuation.\n",
    "\n",
    "    Args:\n",
    "        text (str): The input text to preprocess.\n",
    "\n",
    "    Returns:\n",
    "        list: A list of tokens (words) after preprocessing.\n",
    "    \"\"\"\n",
    "    pass\n",
    "\n",
    "def analyse(tokens):\n",
    "    \"\"\"\n",
    "    Analyze the tokens to compute unigrams, bigrams, and trigrams, and their frequencies.\n",
    "\n",
    "    Args:\n",
    "        tokens (list): A list of tokens (words).\n",
    "\n",
    "    Returns:\n",
    "        tuple: A tuple containing frequency dictionaries for unigrams, bigrams, and trigrams.\n",
    "    \"\"\"\n",
    "    pass\n",
    "\n",
    "def hist_plot(freq_dict, title=\"Histogram\"):\n",
    "    \"\"\"\n",
    "    Plot a histogram for the given frequency dictionary.\n",
    "\n",
    "    Args:\n",
    "        freq_dict (dict): A dictionary containing items and their frequencies.\n",
    "        title (str): The title of the histogram.\n",
    "    \"\"\"\n",
    "    pass"
   ]
  },
  {
   "cell_type": "code",
   "execution_count": null,
   "id": "a95b683b",
   "metadata": {},
   "outputs": [],
   "source": [
    "## Driver Code\n",
    "\n",
    "data = load_text(filepath='data/moby_dick.txt')\n",
    "data_prepossed = preprocess(data)\n",
    "unigrams, bigrams, trigrams = analyse(data_prepossed)\n",
    "hist_plot(unigrams, title=\"Histogram (Unigrams)\")\n",
    "hist_plot(bigrams, title=\"Histogram (Bigrams)\")\n",
    "hist_plot(trigrams, title=\"Histogram (Trigrams)\")"
   ]
  },
  {
   "cell_type": "markdown",
   "id": "e8864794",
   "metadata": {},
   "source": [
    "## Exercise 1.4: Zipf's and Mandelbrot's Law [2 + 0.5 + 0.5 + 0.5 + 0.5 = 4 pts]\n",
    "You are given the subfolder `data`, which contains 4 files:\n",
    "- `cities_eng.txt` contains the text of \"A Tale of 2 Cities\" by Charles Dickens (source: https://www.gutenberg.org/ebooks/98).\n",
    "- `cities_ger.txt` contains the translation of \"A Tale of 2 Cities\" by Charles Dickens into German (source:https://www.gutenberg.org/ebooks/58145).\n",
    "- `parser.cpp` contains the C++ code fpr Mozilla’s SpiderMonkey Parser (source: https://github.com/mozilla/gecko-dev/blob/master/js/src/frontend/Parser.cpp).\n",
    "- `uniprot_sprot.fasta` contains sequences of amino acids, forming proteins (source: https://ftp.uniprot.org/pub/databases/uniprot/current_release/knowledgebase/complete/uniprot_sprot.fasta.gz). If you are interested, you can look up the meaning of the letters inside the file here: https://en.wikipedia.org/wiki/Protein_sequence.\n",
    "\n",
    "You are free to use the functions defined in Exercise 1.3 as needed to perform the following tasks:"
   ]
  },
  {
   "cell_type": "markdown",
   "id": "be3bafde",
   "metadata": {},
   "source": [
    "1. Count the number of unigrams, and then rank the words, such that highest frequency has rank 1 and so on. For each of the words, plot the frequency against the rank. Use a plot with linear axes.                                                      [2 pts]"
   ]
  },
  {
   "cell_type": "code",
   "execution_count": null,
   "id": "485e789a",
   "metadata": {},
   "outputs": [],
   "source": [
    "def get_freq_ranks(tokens):\n",
    "    \"\"\"\n",
    "    Compute the frequency and rank of tokens.\n",
    "\n",
    "    Args:\n",
    "        tokens (list): A list of tokens (words).\n",
    "\n",
    "    Returns:\n",
    "        tuple: A tuple containing frequencies, ranks, and the frequency dictionary.\n",
    "    \"\"\"\n",
    "    pass\n",
    "\n",
    "def plot_zipf_linear(freqs, ranks, title):\n",
    "    \"\"\"\n",
    "    Plot a Zipf plot with linear axes.\n",
    "\n",
    "    Args:\n",
    "        freqs (list): A list of frequencies.\n",
    "        ranks (list): A list of ranks.\n",
    "        title (str): The title of the plot.\n",
    "    \"\"\"\n",
    "    pass"
   ]
  },
  {
   "cell_type": "code",
   "execution_count": null,
   "id": "5874ea8d",
   "metadata": {},
   "outputs": [],
   "source": [
    "## Driver Code\n",
    "\n",
    "## Dickens English\n",
    "data_eng= load_text(filepath='data/cities_eng.txt')\n",
    "data_eng_prepossed = preprocess(data_eng)\n",
    "freqs_eng, ranks_eng, freq_dict_eng = get_freq_ranks(data_eng_prepossed)\n",
    "zipf_eng = plot_zipf_linear(freqs_eng, ranks_eng, \"Zipf (Dickens English)\")\n",
    "\n",
    "## Dickens German\n",
    "data_ger= load_text(filepath='data/cities_ger.txt')\n",
    "data_ger_prepossed = preprocess(data_ger)\n",
    "freqs_ger, ranks_ger, freq_dict_ger = get_freq_ranks(data_ger_prepossed)\n",
    "zipf_ger = plot_zipf_linear(freqs_ger, ranks_ger, \"Zipf (Dickens German)\")\n",
    "\n",
    "## C++ code\n",
    "data_py= load_text(filepath='data/parser.cpp')\n",
    "data_py_prepossed = preprocess(data_py)\n",
    "freqs_py, ranks_py, freq_dict_py = get_freq_ranks(data_py_prepossed)\n",
    "zipf_py = plot_zipf_linear(freqs_py, ranks_py, \"Zipf (C++ code)\")\n",
    "\n",
    "## Protein data\n",
    "data_pt= load_text(filepath='data/uniprot_sprot.fasta')\n",
    "data_pt_prepossed = preprocess(data_pt)\n",
    "freqs_pt, ranks_pt, freq_dict_pt = get_freq_ranks(data_pt_prepossed)\n",
    "zipf_pt = plot_zipf_linear(freqs_pt, ranks_pt, \"Zipf (Protein data)\")"
   ]
  },
  {
   "cell_type": "markdown",
   "id": "12ca65a3",
   "metadata": {},
   "source": [
    "2. Repeat the experiment, but change the plot to use a log scale instead of linear. [0.5 pts]"
   ]
  },
  {
   "cell_type": "code",
   "execution_count": null,
   "id": "727da089",
   "metadata": {},
   "outputs": [],
   "source": [
    "def plot_zipf_log(freqs, ranks, title):\n",
    "    \"\"\"\n",
    "    Plot a Zipf plot with logarithmic axes.\n",
    "    Args:\n",
    "        freqs (list): A list of frequencies.\n",
    "        ranks (list): A list of ranks.\n",
    "        title (str): The title of the plot.\n",
    "    \"\"\"\n",
    "    pass"
   ]
  },
  {
   "cell_type": "code",
   "execution_count": null,
   "id": "76dc365b",
   "metadata": {},
   "outputs": [],
   "source": [
    "## Driver Code\n",
    "\n",
    "## Dickens English\n",
    "zipf_eng = plot_zipf_log(freqs_eng, ranks_eng, \"Zipf (Dickens English)\")\n",
    "\n",
    "## Dickens German\n",
    "zipf_ger = plot_zipf_log(freqs_ger, ranks_ger, \"Zipf (Dickens German)\")\n",
    "\n",
    "## C++ code\n",
    "zipf_py = plot_zipf_log(freqs_py, ranks_py, \"Zipf (C++ code)\")\n",
    "\n",
    "## Protein data\n",
    "zipf_pt = plot_zipf_log(freqs_pt, ranks_pt, \"Zipf (Protein data)\")"
   ]
  },
  {
   "cell_type": "markdown",
   "id": "c4f178f5",
   "metadata": {},
   "source": [
    "3. Add an 'ideal' line to your 4 plots, according to Zipf's law. Use the following formula. [0.5 pts]\n",
    "\n",
    "$$\\hat{y}_i = \\frac{\\text{frequency of }word_{rank1}} {\\text{rank of } word_i}$$"
   ]
  },
  {
   "cell_type": "code",
   "execution_count": null,
   "id": "c639706a",
   "metadata": {},
   "outputs": [],
   "source": [
    "def calculate_ideal_zipf(ranks, top_freq):\n",
    "    \"\"\"\n",
    "    Calculates predicted frequencies using Zipf's law.\n",
    "\n",
    "    Args:\n",
    "        ranks (List[int]): List of word ranks.\n",
    "        top_freq (int): Frequency of the most common word (rank 1).\n",
    "\n",
    "    Returns:\n",
    "        [List[float]: zipf_predictions\n",
    "    \"\"\"\n",
    "    pass\n",
    "\n",
    "\n",
    "def plot_zipf_ideal(freqs, ranks, zipf_preds, title, label_ideal):\n",
    "    \"\"\"\n",
    "    Plot a Zipf plot with an ideal line.\n",
    "    Args:\n",
    "        freqs (list): A list of frequencies.\n",
    "        ranks (list): A list of ranks.\n",
    "        zipf_preds (list): A list of predicted frequencies.\n",
    "        title (str): The title of the plot.\n",
    "        label_ideal (str): Label for the ideal line.\n",
    "    \"\"\"\n",
    "    pass"
   ]
  },
  {
   "cell_type": "code",
   "execution_count": null,
   "id": "746cb483",
   "metadata": {},
   "outputs": [],
   "source": [
    "## Driver Code\n",
    "\n",
    "## Dickens English\n",
    "top_freq_eng = freqs_eng[0]\n",
    "zipf_line_eng = calculate_ideal_zipf(ranks_eng, top_freq_eng)\n",
    "zipf_eng = plot_zipf_ideal(freqs_eng, ranks_eng, zipf_line_eng, \"Zipf with Ideal (Dickens English)\", \"Ideal Zipf\")\n",
    "\n",
    "## Dickens German\n",
    "top_freq_ger = freqs_ger[0]\n",
    "zipf_line_ger = calculate_ideal_zipf(ranks_ger, top_freq_ger)\n",
    "zipf_ger = plot_zipf_ideal(freqs_ger, ranks_ger, zipf_line_ger, \"Zipf with Ideal (Dickens German)\", \"Ideal Zipf\")\n",
    "\n",
    "## C++ code\n",
    "top_freq_py = freqs_py[0]\n",
    "zipf_line_py = calculate_ideal_zipf(ranks_py, top_freq_py)\n",
    "zipf_py = plot_zipf_ideal(freqs_py, ranks_py, zipf_line_py, \"Zipf with Ideal (C++ code)\", \"Ideal Zipf\")\n",
    "\n",
    "## Protein data\n",
    "top_freq_pt = freqs_pt[0]\n",
    "zipf_line_pt = calculate_ideal_zipf(ranks_pt, top_freq_pt)\n",
    "zipf_pt = plot_zipf_ideal(freqs_pt, ranks_pt, zipf_line_pt, \"Zipf with Ideal (Protein data)\", \"Ideal Zipf\")"
   ]
  },
  {
   "cell_type": "markdown",
   "metadata": {},
   "source": [
    "4. Compute the mean squared error (MSE) of these predictions, and output the value to 10 decimal digits. [0.5 pts]\n",
    "\n",
    "$$ MSE = \\big(\\frac{1}{n} \\sum (\\hat{y}_i - y_i)^2\\big)$$"
   ]
  },
  {
   "cell_type": "code",
   "execution_count": null,
   "id": "3640ac75",
   "metadata": {},
   "outputs": [],
   "source": [
    "def mse(actual, predicted):\n",
    "    \"\"\"\n",
    "    Calculate the Mean Squared Error (MSE) between actual and predicted values.\n",
    "    Args:\n",
    "        actual (list): Actual values.\n",
    "        predicted (list): Predicted values.\n",
    "    Returns:\n",
    "        float: Mean Squared Error.\n",
    "    \"\"\"\n",
    "    pass"
   ]
  },
  {
   "cell_type": "code",
   "execution_count": null,
   "id": "6f7949bd",
   "metadata": {},
   "outputs": [],
   "source": [
    "## Driver Code\n",
    "\n",
    "print(f\"MSE for Dickens (Eng): \",mse(freqs_eng, zipf_line_eng))   ## Dickens English\n",
    "print(f\"MSE for Dickens (Ger): \",mse(freqs_ger, zipf_line_ger))   ## Dickens German\n",
    "print(f\"MSE for C++ code: \",mse(freqs_py, zipf_line_py))          ## C++ code\n",
    "print(f\"MSE for Proteins: \",mse(freqs_pt, zipf_line_pt))          ## Protein code"
   ]
  },
  {
   "cell_type": "markdown",
   "id": "7d0db34b",
   "metadata": {},
   "source": [
    "5. Add another 'ideal' curve to your 4 plots, but use the Mandelbrot formula instead (lecture slides chapter_2 page 19). You are allowed to play around with the parameters a little bit. Compute the MSE for this as well.                                [0.5 pts]"
   ]
  },
  {
   "cell_type": "code",
   "execution_count": null,
   "id": "14f3c6e6",
   "metadata": {},
   "outputs": [],
   "source": [
    "def calculate_ideal_mandelbrot(ranks, top_freq, a, b):\n",
    "    \"\"\"\n",
    "    Calculates predicted frequencies using Zipf's and Mandelbrot's laws.\n",
    "\n",
    "    Args:\n",
    "        ranks (List[int]): List of word ranks.\n",
    "        top_freq (int): Frequency of the most common word (rank 1).\n",
    "        a (float): Exponent for Mandelbrot's law.\n",
    "        b (float): Offset for Mandelbrot's law.\n",
    "\n",
    "    Returns:\n",
    "        List[float]: mandelbrot_predictions\n",
    "    \"\"\"\n",
    "    pass"
   ]
  },
  {
   "cell_type": "code",
   "execution_count": null,
   "id": "0f285378",
   "metadata": {},
   "outputs": [],
   "source": [
    "## Driver Code\n",
    "\n",
    "## Mandelbrot parameters, change these values as you wish\n",
    "a = 1.5\n",
    "b = 0.5\n",
    "\n",
    "## Dickens English\n",
    "top_freq_eng = freqs_eng[0]\n",
    "mandelbrot_line_eng = calculate_ideal_mandelbrot(ranks_eng, top_freq_eng, a, b)\n",
    "zipf_eng = plot_zipf_ideal(freqs_eng, ranks_eng, mandelbrot_line_eng, \"Zipf with Ideal Mandelbrot (Dickens English)\", label_ideal= \"Mandelbrot\")\n",
    "\n",
    "## Dickens German\n",
    "top_freq_ger = freqs_ger[0]\n",
    "mandelbrot_line_ger = calculate_ideal_mandelbrot(ranks_ger, top_freq_ger, a, b)\n",
    "zipf_ger = plot_zipf_ideal(freqs_ger, ranks_ger, mandelbrot_line_ger, \"Zipf with Ideal Mandelbrot (Dickens German)\", label_ideal= \"Mandelbrot\")\n",
    "\n",
    "## C++ code\n",
    "top_freq_py = freqs_py[0]\n",
    "mandelbrot_line_py = calculate_ideal_mandelbrot(ranks_py, top_freq_py, a, b)\n",
    "zipf_py = plot_zipf_ideal(freqs_py, ranks_py, mandelbrot_line_py, \"Zipf with Ideal Mandelbrot (C++ code)\", label_ideal= \"Mandelbrot\")\n",
    "\n",
    "## Protein data\n",
    "top_freq_pt = freqs_pt[0]\n",
    "mandelbrot_line_pt = calculate_ideal_mandelbrot(ranks_pt, top_freq_pt, a, b)\n",
    "zipf_pt = plot_zipf_ideal(freqs_pt, ranks_pt, mandelbrot_line_pt, \"Zipf with Ideal Mandelbrot (Protein data)\", label_ideal= \"Mandelbrot\")"
   ]
  },
  {
   "cell_type": "code",
   "execution_count": null,
   "id": "6d170a81",
   "metadata": {},
   "outputs": [],
   "source": [
    "## Driver Code\n",
    "\n",
    "print(f\"MSE for Dickens (Eng): \",mse(freqs_eng, mandelbrot_line_eng))   ## Dickens English\n",
    "print(f\"MSE for Dickens (Ger): \",mse(freqs_ger, mandelbrot_line_ger))   ## Dickens German\n",
    "print(f\"MSE for C++ code: \",mse(freqs_py, mandelbrot_line_py))     ## C++ code\n",
    "print(f\"MSE for Proteins: \",mse(freqs_pt, mandelbrot_line_pt))     ## Protein code"
   ]
  }
 ],
 "metadata": {
  "kernelspec": {
   "display_name": "workspace",
   "language": "python",
   "name": "python3"
  },
  "language_info": {
   "codemirror_mode": {
    "name": "ipython",
    "version": 3
   },
   "file_extension": ".py",
   "mimetype": "text/x-python",
   "name": "python",
   "nbconvert_exporter": "python",
   "pygments_lexer": "ipython3",
   "version": "3.12.4"
  }
 },
 "nbformat": 4,
 "nbformat_minor": 5
}
