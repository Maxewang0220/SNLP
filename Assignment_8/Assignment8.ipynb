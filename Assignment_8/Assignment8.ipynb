{
 "cells": [
  {
   "cell_type": "markdown",
   "id": "189694a3-77d1-4609-b587-3d5eb320abe8",
   "metadata": {},
   "source": [
    "# SNLP Assignment 8\n",
    "\n",
    "Name 1: Entang Wang<br/>\n",
    "Student id 1: 7069521<br/>\n",
    "Email 1: enwa00001@stud.uni-saarland.de<br/>\n",
    "\n",
    "\n",
    "Name 2: <br/>\n",
    "Student id 2: <br/>\n",
    "Email 2: <br/> \n",
    "\n",
    "Name 3: <br/>\n",
    "Student id 3: <br/>\n",
    "Email 3: <br/> \n",
    "\n",
    "**Instructions:** Read each question carefully. <br/>\n",
    "Make sure you appropriately comment your code wherever required. Your final submission should contain the completed Notebook. There is no need to submit the data files. <br/>\n",
    "Upload the zipped folder on CMS. Please follow the naming convention of **Name1_studentID1_Name2_studentID2_Name3_studentID3.zip**. Make sure to click on \"Turn-in\" (or the equivalent on CMS) after you upload your submission, otherwise the assignment will not be considered as submitted. Only one member of the group should make the submisssion.\n",
    "\n",
    "---"
   ]
  },
  {
   "cell_type": "markdown",
   "id": "5a764ef4-ea2d-4983-ab2f-8cc6aeab0bad",
   "metadata": {},
   "source": [
    "In this Assignment you will be asked to draw graphs, You can do this by hand or use an online tool like https://app.diagrams.net/\n",
    "\n",
    "Just make sure to submit the graphs as images and specify the question they are answering."
   ]
  },
  {
   "cell_type": "markdown",
   "id": "a9b2129f-6bab-43f5-943f-d3d050034eb5",
   "metadata": {},
   "source": [
    "# Exercise 1 $\\chi^2$ feature selection 1 Points\n",
    "Consider a setting where the task is to classify a collection of scientific articles based on their topics. The table below shows some word occurrence statistics from this document collection for four topic categories: mathematics, chemistry, astronomy, and physics.\n",
    "\n",
    "|                 | N(composition) | N(gravity) | N(differential) | N(theory) |\n",
    "|-----------------|----------------|------------|-----------------|-----------|\n",
    "| c = mathematics | 30             | 3          | 50              | 7         |\n",
    "| c = chemistry   | 43             | 0          | 2               | 5         |\n",
    "| c = astronomy   | 47             | 53         | 19              | 11        |\n",
    "| c = physics     | 30             | 34         | 29              | 7         |\n",
    "\n",
    "1. Explain how we can use $\\chi^2$ statistics to asses wether each word feature would be useful for predicting the class. (0.5 Points)\n",
    "2. Implement the function chi2_statistic and compute the $\\chi^2$ statistics for the given features. (0.5 Points)"
   ]
  },
  {
   "cell_type": "code",
   "execution_count": null,
   "id": "964e2fdd-f178-40e8-913c-f4ce6938dcba",
   "metadata": {},
   "outputs": [],
   "source": [
    "import numpy as np\n",
    "contingency_table = np.array([[30 ,3 ,50,7],\n",
    "                     [43,0,2,5],\n",
    "                     [47,53,19,11],\n",
    "                     [30,34,29,7]])"
   ]
  },
  {
   "cell_type": "code",
   "execution_count": null,
   "id": "2f845dd2-eb5e-4c44-8c92-78adb028b060",
   "metadata": {},
   "outputs": [],
   "source": [
    "def chi2_statistic(contingency_table: list[list[int]]) -> float:\n",
    "    \"\"\"\n",
    "    Compute the chi-squared statistic from a contingency table.\n",
    "\n",
    "    Parameters:\n",
    "        contingency_table (list of list of int): \n",
    "            A 2D table where entry [i][j] is the count of samples with \n",
    "            feature value i and label j.\n",
    "\n",
    "    Returns:\n",
    "        float: The chi-squared statistic.\n",
    "    \"\"\""
   ]
  },
  {
   "cell_type": "markdown",
   "id": "1199e5aa-e777-4f2c-89ae-022a0aaeb798",
   "metadata": {},
   "source": [
    "# Exercise 2 HMM Theory 2 Points\n",
    "1. What are the assumptions made for a Hidden Markov Model? (0.5 Points)\n",
    "2. Draw the graph of a Hidden Markov model. Explain the graph. (1 Point)\n",
    "3. What are the limitations of HMMs? (0.5 Points)"
   ]
  },
  {
   "cell_type": "markdown",
   "id": "ba13c474-4cb4-48bb-8dec-8b51de2edfd9",
   "metadata": {},
   "source": [
    "# Exercise 3 Named Entity Recognition 3 Points\n",
    "In this exercise you will implement the Hidden Markov model for Named Entity Recognition.\n",
    "1. Define the states and observations from the training data and compute the initial probabilities, i.e the probability of starting in a state. (1 Point)"
   ]
  },
  {
   "cell_type": "code",
   "execution_count": null,
   "id": "35c880f7-1402-44b3-a21c-e8f2bdc8486a",
   "metadata": {},
   "outputs": [],
   "source": [
    "lines = open(\"data/eng.train\").readlines()\n",
    "\n",
    "sentences = []\n",
    "temp = []\n",
    "\n",
    "for line in lines:\n",
    "    \n",
    "    if line == \"\\n\":\n",
    "        sentences.append(temp)\n",
    "        temp = []\n",
    "        continue\n",
    "        \n",
    "    toks = line.split()\n",
    "\n",
    "    temp.append((toks[0], toks[3]))\n",
    "\n",
    "print(sentences[:5])"
   ]
  },
  {
   "cell_type": "code",
   "execution_count": null,
   "id": "f6c8f08c-9de4-4eeb-b305-7c1f735e3bba",
   "metadata": {},
   "outputs": [],
   "source": [
    "# ===========================\n",
    "# your code here\n",
    "# ==========================="
   ]
  },
  {
   "cell_type": "markdown",
   "id": "49c07fce-16a9-4b12-8ed0-8857f73fd7c7",
   "metadata": {},
   "source": [
    "2. Compute the probability of transitioning from one state to another $ P(\\pi_i|\\pi_{i-1})$. Define `<start>` as the start state and `<end>` as the end state i.e. start and end of each sentence when computing the transition counts. (1 Point)"
   ]
  },
  {
   "cell_type": "code",
   "execution_count": null,
   "id": "3f622342-4604-4cb1-8c2d-e2da30a34618",
   "metadata": {},
   "outputs": [],
   "source": [
    "transition_counts = defaultdict(lambda: defaultdict(int))\n",
    "transition_probs = defaultdict(dict)\n",
    "\n",
    "# Count transitions\n",
    "\n",
    "# ===========================\n",
    "# your code here\n",
    "# ===========================\n",
    "\n",
    "# Convert counts to probabilities\n",
    "\n",
    "# ===========================\n",
    "# your code here\n",
    "# ===========================\n",
    "\n",
    "print(\"Transition probs: \", transition_probs)"
   ]
  },
  {
   "cell_type": "markdown",
   "id": "ba0b86d6-b702-4609-8653-d5c95c1b0d67",
   "metadata": {},
   "source": [
    "3. Compute the emission probabilities, i.e. the probability of seeing a observation in a given state. (1 Point)"
   ]
  },
  {
   "cell_type": "code",
   "execution_count": null,
   "id": "4d55380d-8fa4-4d7c-9937-d88d69e5c7dc",
   "metadata": {},
   "outputs": [],
   "source": [
    "# Initialize emission probability dict\n",
    "emission_counts = defaultdict(lambda: defaultdict(int))\n",
    "emission_probs = defaultdict(dict)\n",
    "\n",
    "# Count emissions\n",
    "\n",
    "# ===========================\n",
    "# your code here\n",
    "# ===========================\n",
    "\n",
    "# Convert counts to probabilities\n",
    "\n",
    "# ===========================\n",
    "# your code here\n",
    "# ==========================="
   ]
  },
  {
   "cell_type": "markdown",
   "id": "5a97aa06-dba7-4c61-aca1-99e895f4ab3a",
   "metadata": {},
   "source": [
    "# Exercise 4 Bayesian Networks 1 Points\n",
    "1. Draw the graphs representing the following distributions (0.5 points)\n",
    "   \n",
    "i) P(A,B,C,D) = P(A)P(C)P(B|C)P(D|C,A)\\\n",
    "ii) P(A,B,C,D) = P(D)P(B)P(A|B,C)P(C|D)\\\n",
    "iii) P(A,B,C) = P(A|B)P(B|C)P(C)\n",
    "\n",
    "2. Give the joint distribution of the following graphs (0.5 points)\n",
    "\n",
    "i)\n",
    "\n",
    "<img src=\"ex4.2_i).png\" alt=\"graph\" style=\"width: 200px;\"/>\n",
    "\n",
    "ii)\n",
    "\n",
    "<img src=\"ex4.2_ii).png\" alt=\"graph\" style=\"width: 200px;\"/>\n",
    "\n",
    "iii)\n",
    "\n",
    "<img src=\"ex4.2_iii).png\" alt=\"graph\" style=\"width: 200px;\"/>\n"
   ]
  },
  {
   "cell_type": "markdown",
   "id": "74526dcb-65b7-46e1-ba8c-db47a9219bd8",
   "metadata": {},
   "source": [
    "# Exercise 5 Conditional random fields 3 Points\n",
    "1. While HMMs are generative models CRFs are discriminativ. Explain why? (0.5 points)\n",
    "2. What are the advantages of CRFs over HMMs? (0.5 points)\n",
    "   \n",
    "Now you will use the `sklearn_crfsuite` to implement a CRF for Part of Speech tagging. You'll be using the Treebank corpus for that. Run the following cell to get the data."
   ]
  },
  {
   "cell_type": "code",
   "execution_count": null,
   "id": "5deaa366-39bf-422b-90fa-b8a3ab79331a",
   "metadata": {},
   "outputs": [],
   "source": [
    "pip install sklearn-crfsuite # install this please"
   ]
  },
  {
   "cell_type": "code",
   "execution_count": 1,
   "id": "e360b1aa-7e34-47ca-8008-4b87837af1c8",
   "metadata": {},
   "outputs": [
    {
     "name": "stderr",
     "output_type": "stream",
     "text": [
      "[nltk_data] Downloading package treebank to\n",
      "[nltk_data]     C:\\Users\\User\\AppData\\Roaming\\nltk_data...\n",
      "[nltk_data]   Package treebank is already up-to-date!\n"
     ]
    }
   ],
   "source": [
    "import nltk\n",
    "nltk.download('treebank')\n",
    "corpus = nltk.corpus.treebank.tagged_sents()[:-100] \n",
    "test_data =  nltk.corpus.treebank.tagged_sents()[-100:]"
   ]
  },
  {
   "cell_type": "markdown",
   "id": "ca36a15d-92b2-4d18-878e-62a8cbb173fe",
   "metadata": {},
   "source": [
    "3. Complete the function `word2features`, `sent2features` and `sent2labels` .Set up the `word2features` such that the following features are used in your code: (if you're not sure how to do it, have a look at the example in the next block): (1 point)\n",
    "- The word itself.\n",
    "- A boolean indicating if the word is the first word in the sentence.\n",
    "- A boolean indicating if the word is the last word in the sentence.\n",
    "- A boolean indicating if the first character of the word is capitalized.\n",
    "- A boolean indicating if the word is all in uppercase letters.\n",
    "- A boolean indicating if the word is all in lowercase letters.\n",
    "- The first character of the word.\n",
    "- The first two characters of the word.\n",
    "- The first three characters of the word.\n",
    "- The last character of the word.\n",
    "- The last two characters of the word.\n",
    "- The last three characters of the word.\n",
    "- The previous word in the sentence. If the word is the first word in the sentence, this feature is an empty string.\n",
    "- The next word in the sentence. If the word is the last word in the sentence, this feature is an empty string.\n",
    "- A boolean indicating if the word contains a hyphen.\n",
    "- A boolean indicating if the word is a number.\n",
    "- A boolean indicating if the word has any capitalized letters other than the first letter.\n"
   ]
  },
  {
   "cell_type": "code",
   "execution_count": null,
   "id": "4aedd96f-672c-4460-a728-ddfcebffdbc8",
   "metadata": {},
   "outputs": [],
   "source": [
    "# def word2features_example(sent, i):\n",
    "#     word = sent[i]\n",
    "\n",
    "#     features = {\n",
    "#         'word_length': len(word),  # The length of the word\n",
    "#         'is_alphabet': word.isalpha(),  # Is the word composed of alphabets only\n",
    "#         'is_digit': word.isdigit(),  # Is the word composed of digits only\n",
    "#         'is_alphanumeric': word.isalnum(),  # Is the word composed of alphabets and numbers only\n",
    "#         'is_uppercase': word.isupper(),  # Is the word in uppercase\n",
    "#         'is_lowercase': word.islower(),  # Is the word in lowercase\n",
    "#         'prev_word': '' if i == 0 else sent[i - 1],  # The previous word\n",
    "#         'next_word': '' if i == len(sent) - 1 else sent[i + 1],  # The next word\n",
    "#     }\n",
    "\n",
    "#     return features"
   ]
  },
  {
   "cell_type": "code",
   "execution_count": null,
   "id": "f480b6c9-145e-4caf-b3bb-30d3a6c96887",
   "metadata": {},
   "outputs": [],
   "source": [
    "import sklearn_crfsuite\n",
    "from sklearn_crfsuite import metrics\n",
    "\n",
    "train_sents= corpus\n",
    "\n",
    "def word2features(sent, i):\n",
    "    \"\"\"\n",
    "    Generate features for a given word in a sentence.\n",
    "\n",
    "    Args:\n",
    "    sent (list): A list of tuples representing a sentence, where each tuple contains a word and its label.\n",
    "    i (int): The index of the word in the sentence for which features are to be generated.\n",
    "\n",
    "    Returns:\n",
    "    dict: A dictionary where keys are feature names and values are corresponding feature values.\n",
    "    \"\"\"\n",
    "    pass\n",
    "\n",
    "\n",
    "def sent2features(sent):\n",
    "    \"\"\"\n",
    "    Generate features for all words in a sentence.\n",
    "\n",
    "    Args:\n",
    "    sent (list): A list of tuples representing a sentence, where each tuple contains a word and its label.\n",
    "\n",
    "    Returns:\n",
    "    list: A list of feature dictionaries. Each dictionary corresponds to the features of a word in the sentence.\n",
    "    \"\"\"\n",
    "    pass\n",
    "\n",
    "\n",
    "def sent2labels(sent):\n",
    "    \"\"\"\n",
    "    Extract labels from a sentence.\n",
    "\n",
    "    Args:\n",
    "    sent (list): A list of tuples representing a sentence, where each tuple contains a word and its label.\n",
    "\n",
    "    Returns:\n",
    "    list: A list of labels extracted from the sentence.\n",
    "    \"\"\"\n",
    "    pass"
   ]
  },
  {
   "cell_type": "markdown",
   "id": "124d12fb-d8ef-4492-97fb-198d0daa49f2",
   "metadata": {},
   "source": [
    "4. Train the CRF and run the evaluation code. For that look up the documentation of [sklearn_crfsuite](https://sklearn-crfsuite.readthedocs.io/en/latest/tutorial.html#training) on how to set up the training code. (1 point)."
   ]
  },
  {
   "cell_type": "code",
   "execution_count": null,
   "id": "b85c8a33-f889-49cf-8e10-01052aad717a",
   "metadata": {},
   "outputs": [],
   "source": [
    "#Train the CRF"
   ]
  },
  {
   "cell_type": "code",
   "execution_count": null,
   "id": "4a322ac5-d1c9-4071-88e4-cf5b509573bb",
   "metadata": {},
   "outputs": [],
   "source": [
    "#Evaluation code\n",
    "y_pred = crf.predict(X_test)\n",
    "labels=list(crf.classes_)\n",
    "\n",
    "metrics.flat_f1_score(y_test, y_pred, \n",
    "                      average='weighted', labels=labels)"
   ]
  }
 ],
 "metadata": {
  "kernelspec": {
   "display_name": "Python 3 (ipykernel)",
   "language": "python",
   "name": "python3"
  },
  "language_info": {
   "codemirror_mode": {
    "name": "ipython",
    "version": 3
   },
   "file_extension": ".py",
   "mimetype": "text/x-python",
   "name": "python",
   "nbconvert_exporter": "python",
   "pygments_lexer": "ipython3",
   "version": "3.13.3"
  }
 },
 "nbformat": 4,
 "nbformat_minor": 5
}
